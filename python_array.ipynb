{
 "cells": [
  {
   "cell_type": "markdown",
   "id": "e7858b50",
   "metadata": {},
   "source": [
    "###### Array Operation:\n",
    "\n",
    "1. Traversal\n",
    "2. Searching\n",
    "3. Sorting\n",
    "4. Deleting\n",
    "5. Insert\n",
    "\n",
    "#### Types (Sorted and Unsorted Array)"
   ]
  },
  {
   "cell_type": "markdown",
   "id": "76a5e9f5",
   "metadata": {},
   "source": [
    "##Min and Max Operation"
   ]
  },
  {
   "cell_type": "code",
   "execution_count": null,
   "id": "d7c98542",
   "metadata": {},
   "outputs": [],
   "source": [
    "arr = [234,544,232,-1,-2,98]\n",
    "sorted_arr = sorted(arr)\n",
    "print(f\"min value is {sorted_arr[0]} and max value is {sorted_arr[-1]}\")"
   ]
  },
  {
   "cell_type": "markdown",
   "id": "1680b154",
   "metadata": {},
   "source": [
    "without sorting find min and max"
   ]
  },
  {
   "cell_type": "code",
   "execution_count": 13,
   "id": "41bdea35",
   "metadata": {},
   "outputs": [
    {
     "name": "stdout",
     "output_type": "stream",
     "text": [
      "-2\n"
     ]
    }
   ],
   "source": [
    "arr = [234,544,232,-1,-2,98]\n",
    "\n",
    "def min_x(x,y):\n",
    "    if x<y:\n",
    "        m=x\n",
    "    else:\n",
    "        m=y            \n",
    "    return m\n",
    "\n",
    "def get_min_value(arr):\n",
    "    res = arr[0]\n",
    "    for i in range(1,len(arr)-1):        \n",
    "        res = min_x(res,arr[i+1])\n",
    "        \n",
    "    print(res)\n",
    "    \n",
    "get_min_value(arr)\n",
    "    "
   ]
  },
  {
   "cell_type": "markdown",
   "id": "cf946e8d",
   "metadata": {},
   "source": [
    "##Last duplicate element in a sorted array"
   ]
  },
  {
   "cell_type": "code",
   "execution_count": 39,
   "id": "d2bfecdb",
   "metadata": {},
   "outputs": [
    {
     "name": "stdout",
     "output_type": "stream",
     "text": [
      "index :4,number:6\n"
     ]
    }
   ],
   "source": [
    "arr=[1, 5, 5, 6, 6, 7]\n",
    "\n",
    "def find_duplicate(arr):\n",
    "    #start,end,decrement\n",
    "    for i in range(len(arr)-1,0,-1):\n",
    "        if arr[i]==arr[i-1]:\n",
    "            return i,arr[i]        \n",
    "    return None,None\n",
    "\n",
    "index,number = find_duplicate(arr)\n",
    "print(f\"index :{index},number:{number}\")"
   ]
  },
  {
   "cell_type": "code",
   "execution_count": 30,
   "id": "9bec21dd",
   "metadata": {},
   "outputs": [],
   "source": [
    "#Most frequent element in an array"
   ]
  },
  {
   "cell_type": "code",
   "execution_count": 63,
   "id": "50100151",
   "metadata": {},
   "outputs": [
    {
     "name": "stdout",
     "output_type": "stream",
     "text": [
      "count : 5 and element: 1\n"
     ]
    }
   ],
   "source": [
    "arr=[3, 3, 2, 3, 4, 1,1,1,1,1]\n",
    "sorted_arr = sorted(arr)\n",
    "most_frequent_element = sorted_arr[0]\n",
    "\n",
    "\n",
    "def most_frequent(sorted_arr):\n",
    "    current_count = 1\n",
    "    max_count = 0\n",
    "    for i in range(1,len(sorted_arr)):\n",
    "        if sorted_arr[i]==sorted_arr[i-1]:\n",
    "            current_count+=1\n",
    "        else:\n",
    "            if current_count > max_count:\n",
    "                max_count = current_count\n",
    "                most_frequent_elemnt = sorted_arr[i]\n",
    "                #reset the count to 1\n",
    "            current_count = 1\n",
    "        \n",
    "        if current_count>max_count:\n",
    "            most_frequent_element = sorted_arr[i-1]\n",
    "            \n",
    "    return max_count,most_frequent_element\n",
    "\n",
    "count,ele = most_frequent(sorted_arr)\n",
    "print(f\"count : {count} and element: {ele}\")"
   ]
  }
 ],
 "metadata": {
  "kernelspec": {
   "display_name": "Python 3 (ipykernel)",
   "language": "python",
   "name": "python3"
  },
  "language_info": {
   "codemirror_mode": {
    "name": "ipython",
    "version": 3
   },
   "file_extension": ".py",
   "mimetype": "text/x-python",
   "name": "python",
   "nbconvert_exporter": "python",
   "pygments_lexer": "ipython3",
   "version": "3.9.6"
  }
 },
 "nbformat": 4,
 "nbformat_minor": 5
}
